{
  "nbformat": 4,
  "nbformat_minor": 0,
  "metadata": {
    "colab": {
      "provenance": [],
      "authorship_tag": "ABX9TyO1ZZFW8qf54P/JiojlYqvr",
      "include_colab_link": true
    },
    "kernelspec": {
      "name": "python3",
      "display_name": "Python 3"
    },
    "language_info": {
      "name": "python"
    }
  },
  "cells": [
    {
      "cell_type": "markdown",
      "metadata": {
        "id": "view-in-github",
        "colab_type": "text"
      },
      "source": [
        "<a href=\"https://colab.research.google.com/github/Simonscp/simonsotelo_programacion_concurrente/blob/main/Ejemplos_Ilustrativos.ipynb\" target=\"_parent\"><img src=\"https://colab.research.google.com/assets/colab-badge.svg\" alt=\"Open In Colab\"/></a>"
      ]
    },
    {
      "cell_type": "code",
      "execution_count": null,
      "metadata": {
        "colab": {
          "base_uri": "https://localhost:8080/"
        },
        "id": "ualx1QwHOndP",
        "outputId": "1e624b66-2b4b-487e-d95f-1658a580d935"
      },
      "outputs": [
        {
          "output_type": "stream",
          "name": "stdout",
          "text": [
            "Iniciando Hilo 1\n",
            "Iniciando Hilo 2\n",
            "Finalizando Hilo 1\n",
            "Finalizando Hilo 2\n",
            "Tareas finalizadas\n"
          ]
        }
      ],
      "source": [
        "import threading\n",
        "import time\n",
        "\n",
        "def tarea(nombre):\n",
        "    print(f\"Iniciando {nombre}\")\n",
        "    time.sleep(2)  # Simula un trabajo pesado\n",
        "    print(f\"Finalizando {nombre}\")\n",
        "\n",
        "hilo1 = threading.Thread(target=tarea, args=(\"Hilo 1\",))\n",
        "hilo2 = threading.Thread(target=tarea, args=(\"Hilo 2\",))\n",
        "\n",
        "hilo1.start()\n",
        "hilo2.start()\n",
        "\n",
        "hilo1.join()\n",
        "hilo2.join()\n",
        "\n",
        "print(\"Tareas finalizadas\")\n"
      ]
    },
    {
      "cell_type": "code",
      "source": [
        "from concurrent.futures import ThreadPoolExecutor\n",
        "import time\n",
        "\n",
        "def tarea(numero):\n",
        "    time.sleep(1)\n",
        "    return f\"Tarea {numero} completada\"\n",
        "\n",
        "with ThreadPoolExecutor(max_workers=3) as executor:\n",
        "    resultados = executor.map(tarea, range(5))\n",
        "\n",
        "for resultado in resultados:\n",
        "    print(resultado)\n",
        "\n"
      ],
      "metadata": {
        "colab": {
          "base_uri": "https://localhost:8080/"
        },
        "id": "ncGJHRz8ntiP",
        "outputId": "dd25a85e-4ce4-4b88-cd7b-c1d2c17335b1"
      },
      "execution_count": 6,
      "outputs": [
        {
          "output_type": "stream",
          "name": "stdout",
          "text": [
            "Tarea 0 completada\n",
            "Tarea 1 completada\n",
            "Tarea 2 completada\n",
            "Tarea 3 completada\n",
            "Tarea 4 completada\n"
          ]
        }
      ]
    }
  ]
}