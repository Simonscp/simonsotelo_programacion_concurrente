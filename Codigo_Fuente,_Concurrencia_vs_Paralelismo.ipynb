{
  "nbformat": 4,
  "nbformat_minor": 0,
  "metadata": {
    "colab": {
      "provenance": [],
      "authorship_tag": "ABX9TyNDa6VlcmGKNm/jdQqkIwMv",
      "include_colab_link": true
    },
    "kernelspec": {
      "name": "python3",
      "display_name": "Python 3"
    },
    "language_info": {
      "name": "python"
    }
  },
  "cells": [
    {
      "cell_type": "markdown",
      "metadata": {
        "id": "view-in-github",
        "colab_type": "text"
      },
      "source": [
        "<a href=\"https://colab.research.google.com/github/Simonscp/simonsotelo_programacion_concurrente/blob/main/Codigo_Fuente%2C_Concurrencia_vs_Paralelismo.ipynb\" target=\"_parent\"><img src=\"https://colab.research.google.com/assets/colab-badge.svg\" alt=\"Open In Colab\"/></a>"
      ]
    },
    {
      "cell_type": "code",
      "execution_count": 2,
      "metadata": {
        "colab": {
          "base_uri": "https://localhost:8080/"
        },
        "id": "g-lGNSw4QpIm",
        "outputId": "7d9ce6ca-cf4c-4dbb-cab1-0d107ad689a5"
      },
      "outputs": [
        {
          "output_type": "stream",
          "name": "stdout",
          "text": [
            "Procesando pedido de 2 unidades de producto_1...\n",
            "Procesando pedido de 1 unidades de producto_2...\n",
            "Procesando pedido de 4 unidades de producto_3...\n",
            "Procesando pedido de 3 unidades de producto_1...\n",
            "Procesando pedido de 2 unidades de producto_2...\n",
            "Procesando pedido de 1 unidades de producto_3...\n",
            "Pedido aprobado. producto_3 ahora tiene 16 unidades disponibles.\n",
            "Pedido aprobado. producto_2 ahora tiene 4 unidades disponibles.\n",
            "Pedido aprobado. producto_1 ahora tiene 8 unidades disponibles.\n",
            "Pedido aprobado. producto_2 ahora tiene 2 unidades disponibles.\n",
            "Pedido aprobado. producto_3 ahora tiene 15 unidades disponibles.\n",
            "Pedido aprobado. producto_1 ahora tiene 5 unidades disponibles.\n",
            "Pedido de producto_1 registrado en la base de datos.\n",
            "\n",
            "Procesando pedido de 1 unidades de producto_1...\n",
            "Pedido de producto_3 registrado en la base de datos.\n",
            "\n",
            "Procesando pedido de 1 unidades de producto_2...\n",
            "Pedido de producto_2 registrado en la base de datos.\n",
            "\n",
            "Pedido de producto_2 registrado en la base de datos.\n",
            "\n",
            "Pedido de producto_3 registrado en la base de datos.\n",
            "\n",
            "Pedido de producto_1 registrado en la base de datos.\n",
            "\n",
            "Pedido aprobado. producto_2 ahora tiene 1 unidades disponibles.\n",
            "Pedido de producto_2 registrado en la base de datos.\n",
            "\n",
            "Pedido aprobado. producto_1 ahora tiene 4 unidades disponibles.\n",
            "Pedido de producto_1 registrado en la base de datos.\n",
            "\n",
            "Tiempo total (concurrente): 7.01 segundos\n"
          ]
        }
      ],
      "source": [
        "#Codigo usando concurrencia#\n",
        "\n",
        "import time\n",
        "import random\n",
        "import concurrent.futures\n",
        "\n",
        "# Base de datos de inventario simulada\n",
        "inventario = {\n",
        "    \"producto_1\": 10,\n",
        "    \"producto_2\": 5,\n",
        "    \"producto_3\": 20\n",
        "}\n",
        "\n",
        "pedidos = [\n",
        "    (\"producto_1\", 2),\n",
        "    (\"producto_2\", 1),\n",
        "    (\"producto_3\", 4),\n",
        "    (\"producto_1\", 3),\n",
        "    (\"producto_2\", 2),\n",
        "    (\"producto_3\", 1),\n",
        "    (\"producto_1\", 1),\n",
        "    (\"producto_2\", 1)\n",
        "]\n",
        "\n",
        "# Función para procesar pedidos\n",
        "def procesar_pedido(pedido):\n",
        "    producto, cantidad = pedido\n",
        "    print(f\"Procesando pedido de {cantidad} unidades de {producto}...\")\n",
        "\n",
        "    time.sleep(random.uniform(1, 3))  # Simula procesamiento\n",
        "\n",
        "    if inventario.get(producto, 0) >= cantidad:\n",
        "        inventario[producto] -= cantidad\n",
        "        print(f\"Pedido aprobado. {producto} ahora tiene {inventario[producto]} unidades disponibles.\")\n",
        "    else:\n",
        "        print(f\"Pedido rechazado. No hay suficiente stock de {producto}.\")\n",
        "\n",
        "    time.sleep(random.uniform(1, 2))  # Simula retraso\n",
        "    print(f\"Pedido de {producto} registrado en la base de datos.\\n\")\n",
        "\n",
        "# Medir tiempo de ejecución usando concurrencia con ThreadPoolExecutor\n",
        "inicio = time.time()\n",
        "\n",
        "with concurrent.futures.ThreadPoolExecutor() as executor:\n",
        "    executor.map(procesar_pedido, pedidos)\n",
        "\n",
        "fin = time.time()\n",
        "print(f\"Tiempo total (concurrente): {fin - inicio:.2f} segundos\")\n"
      ]
    },
    {
      "cell_type": "code",
      "source": [
        "#Codigo usando paralelismo#\n",
        "import time\n",
        "import random\n",
        "import concurrent.futures\n",
        "from multiprocessing import Manager\n",
        "\n",
        "# Simulación de inventario compartido entre procesos\n",
        "manager = Manager()\n",
        "inventario = manager.dict({\n",
        "    \"producto_1\": 10,\n",
        "    \"producto_2\": 5,\n",
        "    \"producto_3\": 20\n",
        "})\n",
        "\n",
        "# Función para procesar pedidos en paralelo\n",
        "def procesar_pedido_paralelo(pedido, inventario_compartido):\n",
        "    producto, cantidad = pedido\n",
        "    print(f\"Procesando pedido de {cantidad} unidades de {producto}...\")\n",
        "\n",
        "    time.sleep(random.uniform(1, 3))  # Simula procesamiento\n",
        "\n",
        "    if inventario_compartido.get(producto, 0) >= cantidad:\n",
        "        inventario_compartido[producto] -= cantidad\n",
        "        print(f\"Pedido aprobado. {producto} ahora tiene {inventario_compartido[producto]} unidades disponibles.\")\n",
        "    else:\n",
        "        print(f\"Pedido rechazado. No hay suficiente stock de {producto}.\")\n",
        "\n",
        "    time.sleep(random.uniform(1, 2))  # Simula retraso\n",
        "    print(f\"Pedido de {producto} registrado en la base de datos.\\n\")\n",
        "\n",
        "# Medir tiempo de ejecución usando paralelismo con ProcessPoolExecutor\n",
        "inicio = time.time()\n",
        "\n",
        "with concurrent.futures.ProcessPoolExecutor() as executor:\n",
        "    executor.map(procesar_pedido_paralelo, pedidos, [inventario]*len(pedidos))\n",
        "\n",
        "fin = time.time()\n",
        "print(f\"Tiempo total (paralelo): {fin - inicio:.2f} segundos\")\n"
      ],
      "metadata": {
        "colab": {
          "base_uri": "https://localhost:8080/"
        },
        "id": "hFOLL4aMRVZq",
        "outputId": "5863e7b6-fec2-4e44-ae7a-bb642da9d68e"
      },
      "execution_count": 4,
      "outputs": [
        {
          "output_type": "stream",
          "name": "stdout",
          "text": [
            "Procesando pedido de 2 unidades de producto_1...Procesando pedido de 1 unidades de producto_2...\n",
            "\n",
            "Pedido aprobado. producto_1 ahora tiene 8 unidades disponibles.\n",
            "Pedido aprobado. producto_2 ahora tiene 4 unidades disponibles.\n",
            "Pedido de producto_1 registrado en la base de datos.\n",
            "\n",
            "Procesando pedido de 4 unidades de producto_3...\n",
            "Pedido de producto_2 registrado en la base de datos.\n",
            "\n",
            "Procesando pedido de 3 unidades de producto_1...\n",
            "Pedido aprobado. producto_1 ahora tiene 5 unidades disponibles.\n",
            "Pedido aprobado. producto_3 ahora tiene 16 unidades disponibles.\n",
            "Pedido de producto_1 registrado en la base de datos.\n",
            "\n",
            "Procesando pedido de 2 unidades de producto_2...\n",
            "Pedido de producto_3 registrado en la base de datos.\n",
            "\n",
            "Procesando pedido de 1 unidades de producto_3...\n",
            "Pedido aprobado. producto_2 ahora tiene 2 unidades disponibles.\n",
            "Pedido aprobado. producto_3 ahora tiene 15 unidades disponibles.\n",
            "Pedido de producto_2 registrado en la base de datos.\n",
            "\n",
            "Procesando pedido de 1 unidades de producto_1...\n",
            "Pedido aprobado. producto_1 ahora tiene 4 unidades disponibles.\n",
            "Pedido de producto_3 registrado en la base de datos.\n",
            "\n",
            "Procesando pedido de 1 unidades de producto_2...\n",
            "Pedido de producto_1 registrado en la base de datos.\n",
            "\n",
            "Pedido aprobado. producto_2 ahora tiene 1 unidades disponibles.\n",
            "Pedido de producto_2 registrado en la base de datos.\n",
            "\n",
            "Tiempo total (paralelo): 14.40 segundos\n"
          ]
        }
      ]
    }
  ]
}